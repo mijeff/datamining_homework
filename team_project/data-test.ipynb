{
 "cells": [
  {
   "cell_type": "code",
   "execution_count": 1,
   "metadata": {},
   "outputs": [],
   "source": [
    "import pandas as pd"
   ]
  },
  {
   "cell_type": "code",
   "execution_count": 2,
   "metadata": {},
   "outputs": [],
   "source": [
    "df2 = pd.read_csv('2013.csv', usecols=[0, 8, 12, 16], dtype=object)\n",
    "df3 = pd.read_csv('2013.csv', usecols=[0, 8, 12, 16], dtype=object)\n",
    "df4 = pd.read_csv('2014.csv', usecols=[0, 8, 12, 16], dtype=object)\n",
    "df5 = pd.read_csv('2015.csv', usecols=[0, 8, 12, 16], dtype=object)\n",
    "df6 = pd.read_csv('2016.csv', usecols=[0, 8, 12, 16], dtype=object)\n",
    "df7 = pd.read_csv('2017.csv', usecols=[0, 8, 12, 16], dtype=object)\n",
    "df8 = pd.read_csv('2018.csv', usecols=[0, 16], dtype=object)"
   ]
  },
  {
   "cell_type": "code",
   "execution_count": 4,
   "metadata": {},
   "outputs": [
    {
     "name": "stdout",
     "output_type": "stream",
     "text": [
      "12828\n"
     ]
    }
   ],
   "source": [
    "print(len(df2) + len(df3) + len(df4)+ len(df5) + len(df6) + len(df7) + len(df8))"
   ]
  },
  {
   "cell_type": "code",
   "execution_count": 9,
   "metadata": {},
   "outputs": [
    {
     "name": "stdout",
     "output_type": "stream",
     "text": [
      "1435 7\n",
      "1325 10\n",
      "1274 13\n",
      "1249 16\n",
      "1198 17\n"
     ]
    }
   ],
   "source": [
    "df_merge = df3\n",
    "for dft in [df4, df5, df6, df7, df8]:\n",
    "    df_merge = pd.merge(df_merge, dft, on='scode')\n",
    "    print(len(df_merge), len(df_merge.columns))\n"
   ]
  },
  {
   "cell_type": "code",
   "execution_count": 10,
   "metadata": {},
   "outputs": [],
   "source": [
    "df_merge.columns = ['scode', '13-ys', '13-lr', '13-ro', '14-ys', '14-lr', '14-ro','15-ys', '15-lr', '15-ro',\\\n",
    "                   '16-ys', '16-lr', '16-ro','17-ys', '17-lr', '17-ro', '18-ro']"
   ]
  },
  {
   "cell_type": "code",
   "execution_count": 11,
   "metadata": {},
   "outputs": [],
   "source": [
    "for c in df_merge.columns:\n",
    "    df_merge = df_merge[df_merge[c] != '-']"
   ]
  },
  {
   "cell_type": "code",
   "execution_count": 12,
   "metadata": {},
   "outputs": [],
   "source": [
    "df_merge.to_csv('test.csv', sep=',', header=True, index=False)"
   ]
  },
  {
   "cell_type": "code",
   "execution_count": null,
   "metadata": {},
   "outputs": [],
   "source": []
  }
 ],
 "metadata": {
  "kernelspec": {
   "display_name": "Python 3",
   "language": "python",
   "name": "python3"
  },
  "language_info": {
   "codemirror_mode": {
    "name": "ipython",
    "version": 3
   },
   "file_extension": ".py",
   "mimetype": "text/x-python",
   "name": "python",
   "nbconvert_exporter": "python",
   "pygments_lexer": "ipython3",
   "version": "3.7.1"
  }
 },
 "nbformat": 4,
 "nbformat_minor": 2
}
