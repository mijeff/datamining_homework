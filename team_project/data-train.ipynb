{
 "cells": [
  {
   "cell_type": "code",
   "execution_count": 1,
   "metadata": {},
   "outputs": [],
   "source": [
    "import pandas as pd"
   ]
  },
  {
   "cell_type": "code",
   "execution_count": 2,
   "metadata": {},
   "outputs": [],
   "source": [
    "df2 = pd.read_csv('2012.csv', usecols=[0, 8, 12, 16], dtype=object)\n",
    "df3 = pd.read_csv('2013.csv', usecols=[0, 8, 12, 16], dtype=object)\n",
    "df4 = pd.read_csv('2014.csv', usecols=[0, 8, 12, 16], dtype=object)\n",
    "df5 = pd.read_csv('2015.csv', usecols=[0, 8, 12, 16], dtype=object)\n",
    "df6 = pd.read_csv('2016.csv', usecols=[0, 8, 12, 16], dtype=object)\n",
    "df7 = pd.read_csv('2017.csv', usecols=[0, 16], dtype=object)"
   ]
  },
  {
   "cell_type": "code",
   "execution_count": 3,
   "metadata": {},
   "outputs": [
    {
     "name": "stdout",
     "output_type": "stream",
     "text": [
      "1323 7\n",
      "1237 10\n",
      "1193 13\n",
      "1155 16\n",
      "1135 17\n"
     ]
    }
   ],
   "source": [
    "df_merge = df2\n",
    "for dft in [df3, df4, df5, df6, df7]:\n",
    "    df_merge = pd.merge(df_merge, dft, on='scode')\n",
    "    print(len(df_merge), len(df_merge.columns))\n"
   ]
  },
  {
   "cell_type": "code",
   "execution_count": 4,
   "metadata": {},
   "outputs": [],
   "source": [
    "df_merge.columns = ['scode', '12-ys', '12-lr', '12-ro', '13-ys', '13-lr', '13-ro','14-ys', '14-lr', '14-ro',\\\n",
    "                   '15-ys', '15-lr', '15-ro','16-ys', '16-lr', '16-ro', '17-ro']"
   ]
  },
  {
   "cell_type": "code",
   "execution_count": 5,
   "metadata": {},
   "outputs": [],
   "source": [
    "for c in df_merge.columns:\n",
    "    df_merge = df_merge[df_merge[c] != '-']"
   ]
  },
  {
   "cell_type": "code",
   "execution_count": 6,
   "metadata": {},
   "outputs": [],
   "source": [
    "df_merge.to_csv('train.csv', sep=',', header=True, index=False)"
   ]
  },
  {
   "cell_type": "code",
   "execution_count": null,
   "metadata": {},
   "outputs": [],
   "source": []
  }
 ],
 "metadata": {
  "kernelspec": {
   "display_name": "Python 3",
   "language": "python",
   "name": "python3"
  },
  "language_info": {
   "codemirror_mode": {
    "name": "ipython",
    "version": 3
   },
   "file_extension": ".py",
   "mimetype": "text/x-python",
   "name": "python",
   "nbconvert_exporter": "python",
   "pygments_lexer": "ipython3",
   "version": "3.7.1"
  }
 },
 "nbformat": 4,
 "nbformat_minor": 2
}
